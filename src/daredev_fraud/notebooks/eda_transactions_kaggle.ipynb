{
 "cells": [
  {
   "cell_type": "markdown",
   "id": "cea1ad02",
   "metadata": {},
   "source": [
    "# Day 1 - Exploratory Data Analysis (EDA)\n",
    "\n",
    "This notebook explores the **Credit Card Fraud Detection dataset** from Kaggle.  \n",
    "Goal: Understand dataset structure, fraud distribution, and basic feature properties before augmentation.\n",
    "\n",
    "---"
   ]
  },
  {
   "cell_type": "code",
   "execution_count": 8,
   "id": "7f898ee2",
   "metadata": {},
   "outputs": [
    {
     "name": "stdout",
     "output_type": "stream",
     "text": [
      "Traceback (most recent call last):\n",
      "  File \u001b[35m\"<frozen runpy>\"\u001b[0m, line \u001b[35m198\u001b[0m, in \u001b[35m_run_module_as_main\u001b[0m\n",
      "  File \u001b[35m\"<frozen runpy>\"\u001b[0m, line \u001b[35m88\u001b[0m, in \u001b[35m_run_code\u001b[0m\n",
      "  File \u001b[35m\"/Users/nxwright/Documents/projects-2025/fraud-signal-detector-augmented-producer/.venv/lib/python3.13/site-packages/pip/__main__.py\"\u001b[0m, line \u001b[35m8\u001b[0m, in \u001b[35m<module>\u001b[0m\n",
      "    if sys.path[0] in (\"\", \u001b[31mos.getcwd\u001b[0m\u001b[1;31m()\u001b[0m):\n",
      "                           \u001b[31m~~~~~~~~~\u001b[0m\u001b[1;31m^^\u001b[0m\n",
      "\u001b[1;35mFileNotFoundError\u001b[0m: \u001b[35m[Errno 2] No such file or directory\u001b[0m\n",
      "Note: you may need to restart the kernel to use updated packages.\n",
      "<class 'pandas.core.frame.DataFrame'>\n",
      "RangeIndex: 284807 entries, 0 to 284806\n",
      "Data columns (total 31 columns):\n",
      " #   Column  Non-Null Count   Dtype  \n",
      "---  ------  --------------   -----  \n",
      " 0   Time    284807 non-null  float64\n",
      " 1   V1      284807 non-null  float64\n",
      " 2   V2      284807 non-null  float64\n",
      " 3   V3      284807 non-null  float64\n",
      " 4   V4      284807 non-null  float64\n",
      " 5   V5      284807 non-null  float64\n",
      " 6   V6      284807 non-null  float64\n",
      " 7   V7      284807 non-null  float64\n",
      " 8   V8      284807 non-null  float64\n",
      " 9   V9      284807 non-null  float64\n",
      " 10  V10     284807 non-null  float64\n",
      " 11  V11     284807 non-null  float64\n",
      " 12  V12     284807 non-null  float64\n",
      " 13  V13     284807 non-null  float64\n",
      " 14  V14     284807 non-null  float64\n",
      " 15  V15     284807 non-null  float64\n",
      " 16  V16     284807 non-null  float64\n",
      " 17  V17     284807 non-null  float64\n",
      " 18  V18     284807 non-null  float64\n",
      " 19  V19     284807 non-null  float64\n",
      " 20  V20     284807 non-null  float64\n",
      " 21  V21     284807 non-null  float64\n",
      " 22  V22     284807 non-null  float64\n",
      " 23  V23     284807 non-null  float64\n",
      " 24  V24     284807 non-null  float64\n",
      " 25  V25     284807 non-null  float64\n",
      " 26  V26     284807 non-null  float64\n",
      " 27  V27     284807 non-null  float64\n",
      " 28  V28     284807 non-null  float64\n",
      " 29  Amount  284807 non-null  float64\n",
      " 30  Class   284807 non-null  int64  \n",
      "dtypes: float64(30), int64(1)\n",
      "memory usage: 67.4 MB\n",
      "Fraud Transaction Dataset Analysis: None\n",
      "Fraud Class Distribution (Percentage): Class\n",
      "0    99.827251\n",
      "1     0.172749\n",
      "Name: proportion, dtype: float64\n",
      "Fraud Class Distribution (Counts): Class\n",
      "0    284315\n",
      "1       492\n",
      "Name: count, dtype: int64\n"
     ]
    }
   ],
   "source": [
    "%pip install -e ../../..\n",
    "\n",
    "import pandas as pd\n",
    "import matplotlib.pyplot as plt\n",
    "import seaborn as sns\n",
    "import sys, os\n",
    "# adjust path so Python can find the package under src/\n",
    "\n",
    "from daredev_fraud.data_ingestion import load_fraud_dataset  # If your package folder is daredev_fraud\n",
    "\n",
    "# If your package folder is daredev-fraud, use:\n",
    "# from daredev_fraud.data_ingestion import load_fraud_dataset\n",
    "\n",
    "# Keep plots styled\n",
    "sns.set(style=\"whitegrid\")\n",
    "\n",
    "# 1. Load dataset\n",
    "df = load_fraud_dataset()"
   ]
  },
  {
   "cell_type": "code",
   "execution_count": null,
   "id": "e971aa71",
   "metadata": {},
   "outputs": [],
   "source": []
  },
  {
   "cell_type": "markdown",
   "id": "be29e7c7",
   "metadata": {},
   "source": [
    "### 1. Dataset Overview\n",
    "\n",
    "We start by checking the shape, columns, and datatypes of the dataset.  \n",
    "This ensures we understand the raw structure before moving forward."
   ]
  },
  {
   "cell_type": "code",
   "execution_count": 16,
   "id": "6634f59e",
   "metadata": {},
   "outputs": [
    {
     "name": "stdout",
     "output_type": "stream",
     "text": [
      "Shape: (284807, 31)\n",
      "Rows: 284807\n",
      "<class 'pandas.core.frame.DataFrame'>\n",
      "RangeIndex: 284807 entries, 0 to 284806\n",
      "Data columns (total 31 columns):\n",
      " #   Column  Non-Null Count   Dtype  \n",
      "---  ------  --------------   -----  \n",
      " 0   Time    284807 non-null  float64\n",
      " 1   V1      284807 non-null  float64\n",
      " 2   V2      284807 non-null  float64\n",
      " 3   V3      284807 non-null  float64\n",
      " 4   V4      284807 non-null  float64\n",
      " 5   V5      284807 non-null  float64\n",
      " 6   V6      284807 non-null  float64\n",
      " 7   V7      284807 non-null  float64\n",
      " 8   V8      284807 non-null  float64\n",
      " 9   V9      284807 non-null  float64\n",
      " 10  V10     284807 non-null  float64\n",
      " 11  V11     284807 non-null  float64\n",
      " 12  V12     284807 non-null  float64\n",
      " 13  V13     284807 non-null  float64\n",
      " 14  V14     284807 non-null  float64\n",
      " 15  V15     284807 non-null  float64\n",
      " 16  V16     284807 non-null  float64\n",
      " 17  V17     284807 non-null  float64\n",
      " 18  V18     284807 non-null  float64\n",
      " 19  V19     284807 non-null  float64\n",
      " 20  V20     284807 non-null  float64\n",
      " 21  V21     284807 non-null  float64\n",
      " 22  V22     284807 non-null  float64\n",
      " 23  V23     284807 non-null  float64\n",
      " 24  V24     284807 non-null  float64\n",
      " 25  V25     284807 non-null  float64\n",
      " 26  V26     284807 non-null  float64\n",
      " 27  V27     284807 non-null  float64\n",
      " 28  V28     284807 non-null  float64\n",
      " 29  Amount  284807 non-null  float64\n",
      " 30  Class   284807 non-null  int64  \n",
      "dtypes: float64(30), int64(1)\n",
      "memory usage: 67.4 MB\n",
      "None\n",
      "\n",
      "Columns: ['Time', 'V1', 'V2', 'V3', 'V4', 'V5', 'V6', 'V7', 'V8', 'V9', 'V10', 'V11', 'V12', 'V13', 'V14', 'V15', 'V16', 'V17', 'V18', 'V19', 'V20', 'V21', 'V22', 'V23', 'V24', 'V25', 'V26', 'V27', 'V28', 'Amount', 'Class']\n",
      "\n",
      "Dtypes:\n",
      " float64    30\n",
      "int64       1\n",
      "Name: count, dtype: int64\n",
      "\n",
      "Missing values:\n",
      " Time      0\n",
      "V1        0\n",
      "V2        0\n",
      "V3        0\n",
      "V4        0\n",
      "V5        0\n",
      "V6        0\n",
      "V7        0\n",
      "V8        0\n",
      "V9        0\n",
      "V10       0\n",
      "V11       0\n",
      "V12       0\n",
      "V13       0\n",
      "V14       0\n",
      "V15       0\n",
      "V16       0\n",
      "V17       0\n",
      "V18       0\n",
      "V19       0\n",
      "V20       0\n",
      "V21       0\n",
      "V22       0\n",
      "V23       0\n",
      "V24       0\n",
      "V25       0\n",
      "V26       0\n",
      "V27       0\n",
      "V28       0\n",
      "Amount    0\n",
      "Class     0\n",
      "dtype: int64\n"
     ]
    }
   ],
   "source": [
    "print(\"Shape:\", df.shape)\n",
    "print(\"Rows:\", len(df))\n",
    "print(df.info())\n",
    "print(\"\\nColumns:\", df.columns.tolist())\n",
    "print(\"\\nDtypes:\\n\", df.dtypes.value_counts())\n",
    "print(\"\\nMissing values:\\n\", df.isnull().sum())"
   ]
  },
  {
   "cell_type": "markdown",
   "id": "f35d2e53",
   "metadata": {},
   "source": [
    "## 2. Fraud Distribution\n",
    "\n",
    "The target column is **Class**:  \n",
    "- `0` → Not Fraud  \n",
    "- `1` → Fraud  \n",
    "\n",
    "Let’s check how imbalanced the dataset is."
   ]
  },
  {
   "cell_type": "code",
   "execution_count": null,
   "id": "d876751d",
   "metadata": {},
   "outputs": [],
   "source": [
    "class_counts = df['Class'].value_counts()\n",
    "class_percent = df['Class'].value_counts(normalize=True) * 100\n",
    "\n",
    "print(\"Counts:\\n\", class_counts)\n",
    "print(\"\\nPercentages:\\n\", class_percent)\n",
    "\n",
    "# Bar plot\n",
    "sns.barplot(x=class_counts.index, y=class_counts.values, palette=\"pastel\")\n",
    "plt.xticks([0,1], ['Not Fraud (0)', 'Fraud (1)'])\n",
    "plt.ylabel(\"Count\")\n",
    "plt.title(\"Fraud Class Distribution\")\n",
    "plt.show()\n",
    "\n",
    "# Pie chart\n",
    "plt.pie(class_counts, labels=['Not Fraud', 'Fraud'], autopct='%1.3f%%', startangle=90, colors=[\"#66b3ff\",\"#ff9999\"])\n",
    "plt.title(\"Fraud vs Not Fraud\")\n",
    "plt.show()\n"
   ]
  },
  {
   "cell_type": "markdown",
   "id": "e66d4f65",
   "metadata": {},
   "source": [
    "## 3. Descriptive Statistics\n",
    "\n",
    "We’ll generate summary statistics to spot unusual ranges or outliers, especially in `Amount` and the PCA features (`V1`–`V28`).\n"
   ]
  },
  {
   "cell_type": "code",
   "execution_count": null,
   "id": "6f31629c",
   "metadata": {},
   "outputs": [],
   "source": [
    "df.describe().T\n"
   ]
  },
  {
   "cell_type": "markdown",
   "id": "ce6aba35",
   "metadata": {},
   "source": [
    "## 4. Correlation Heatmap\n",
    "\n",
    "Finally, let’s visualize correlations between features.  \n",
    "This can hint at which features may carry strong signals for fraud."
   ]
  },
  {
   "cell_type": "code",
   "execution_count": null,
   "id": "8bbee46a",
   "metadata": {},
   "outputs": [],
   "source": [
    "plt.figure(figsize=(12,8))\n",
    "sns.heatmap(df.corr(), cmap=\"coolwarm\", center=0, cbar=True)\n",
    "plt.title(\"Correlation Heatmap\", fontsize=14)\n",
    "plt.show()"
   ]
  },
  {
   "cell_type": "markdown",
   "id": "4a1a3c57",
   "metadata": {},
   "source": [
    "---\n",
    "# Findings (Day 1)\n",
    "\n",
    "- Dataset contains ~285k transactions, with 492 fraud cases (**0.17% fraud**).  \n",
    "- No missing values detected.  \n",
    "- Features are mostly PCA-transformed (`V1–V28`), plus `Time`, `Amount`, and target `Class`.  \n",
    "- Class imbalance is extreme → augmentation will be required before modeling.  \n",
    "- Some features (like `V14`, `V17`) show higher correlation with `Class`.  \n",
    "\n",
    "✅ Next Step (Day 2): Begin **data augmentation** with Faker and resampling strategies to balance fraud vs non-fraud."
   ]
  }
 ],
 "metadata": {
  "kernelspec": {
   "display_name": ".venv",
   "language": "python",
   "name": "python3"
  },
  "language_info": {
   "codemirror_mode": {
    "name": "ipython",
    "version": 3
   },
   "file_extension": ".py",
   "mimetype": "text/x-python",
   "name": "python",
   "nbconvert_exporter": "python",
   "pygments_lexer": "ipython3",
   "version": "3.13.7"
  }
 },
 "nbformat": 4,
 "nbformat_minor": 5
}
