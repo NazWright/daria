{
 "cells": [
  {
   "cell_type": "markdown",
   "id": "cea1ad02",
   "metadata": {},
   "source": [
    "# Day 1 - Exploratory Data Analysis (EDA)\n",
    "\n",
    "This notebook explores the **Credit Card Fraud Detection dataset** from Kaggle.  \n",
    "Goal: Understand dataset structure, fraud distribution, and basic feature properties before augmentation.\n",
    "\n",
    "---"
   ]
  },
  {
   "cell_type": "code",
   "execution_count": 1,
   "id": "7f898ee2",
   "metadata": {},
   "outputs": [
    {
     "name": "stdout",
     "output_type": "stream",
     "text": [
      "Obtaining file:///Users/nxwright/Documents/projects-2025/fraud-signal-detector-augmented-producer\n",
      "\u001b[31mERROR: file:///Users/nxwright/Documents/projects-2025/fraud-signal-detector-augmented-producer does not appear to be a Python project: neither 'setup.py' nor 'pyproject.toml' found.\u001b[0m\u001b[31m\n",
      "\u001b[0mNote: you may need to restart the kernel to use updated packages.\n"
     ]
    },
    {
     "ename": "ModuleNotFoundError",
     "evalue": "No module named 'daredev_fraud'",
     "output_type": "error",
     "traceback": [
      "\u001b[31m---------------------------------------------------------------------------\u001b[39m",
      "\u001b[31mModuleNotFoundError\u001b[39m                       Traceback (most recent call last)",
      "\u001b[36mCell\u001b[39m\u001b[36m \u001b[39m\u001b[32mIn[1]\u001b[39m\u001b[32m, line 10\u001b[39m\n\u001b[32m      7\u001b[39m \u001b[38;5;66;03m# adjust path so Python can find the package under src/\u001b[39;00m\n\u001b[32m      8\u001b[39m sys.path.append(os.path.abspath(\u001b[33m\"\u001b[39m\u001b[33msrc\u001b[39m\u001b[33m\"\u001b[39m))  \u001b[38;5;66;03m# adjust path to project root if needed\u001b[39;00m\n\u001b[32m---> \u001b[39m\u001b[32m10\u001b[39m \u001b[38;5;28;01mfrom\u001b[39;00m\u001b[38;5;250m \u001b[39m\u001b[34;01mdaredev_fraud\u001b[39;00m\u001b[34;01m.\u001b[39;00m\u001b[34;01mdata_ingestion\u001b[39;00m\u001b[38;5;250m \u001b[39m\u001b[38;5;28;01mimport\u001b[39;00m load_fraud_dataset  \u001b[38;5;66;03m# If your package folder is daredev_fraud\u001b[39;00m\n\u001b[32m     12\u001b[39m \u001b[38;5;66;03m# If your package folder is daredev-fraud, use:\u001b[39;00m\n\u001b[32m     13\u001b[39m \u001b[38;5;66;03m# from daredev_fraud.data_ingestion import load_fraud_dataset\u001b[39;00m\n\u001b[32m     14\u001b[39m \n\u001b[32m     15\u001b[39m \u001b[38;5;66;03m# Keep plots styled\u001b[39;00m\n\u001b[32m     16\u001b[39m sns.set(style=\u001b[33m\"\u001b[39m\u001b[33mwhitegrid\u001b[39m\u001b[33m\"\u001b[39m)\n",
      "\u001b[31mModuleNotFoundError\u001b[39m: No module named 'daredev_fraud'"
     ]
    }
   ],
   "source": [
    "%pip install -e ../../..\n",
    "\n",
    "import pandas as pd\n",
    "import matplotlib.pyplot as plt\n",
    "import seaborn as sns\n",
    "import sys, os\n",
    "# adjust path so Python can find the package under src/\n",
    "sys.path.append(os.path.abspath(\"src\"))  # adjust path to project root if needed\n",
    "\n",
    "from daredev_fraud.data_ingestion import load_fraud_dataset  # If your package folder is daredev_fraud\n",
    "\n",
    "# If your package folder is daredev-fraud, use:\n",
    "# from daredev_fraud.data_ingestion import load_fraud_dataset\n",
    "\n",
    "# Keep plots styled\n",
    "sns.set(style=\"whitegrid\")\n",
    "\n",
    "# 1. Load dataset\n",
    "df = load_fraud_dataset()"
   ]
  },
  {
   "cell_type": "code",
   "execution_count": null,
   "id": "e971aa71",
   "metadata": {},
   "outputs": [],
   "source": []
  },
  {
   "cell_type": "markdown",
   "id": "be29e7c7",
   "metadata": {},
   "source": [
    "### 1. Dataset Overview\n",
    "\n",
    "We start by checking the shape, columns, and datatypes of the dataset.  \n",
    "This ensures we understand the raw structure before moving forward."
   ]
  },
  {
   "cell_type": "code",
   "execution_count": 1,
   "id": "6634f59e",
   "metadata": {},
   "outputs": [
    {
     "ename": "NameError",
     "evalue": "name 'df' is not defined",
     "output_type": "error",
     "traceback": [
      "\u001b[31m---------------------------------------------------------------------------\u001b[39m",
      "\u001b[31mNameError\u001b[39m                                 Traceback (most recent call last)",
      "\u001b[36mCell\u001b[39m\u001b[36m \u001b[39m\u001b[32mIn[1]\u001b[39m\u001b[32m, line 1\u001b[39m\n\u001b[32m----> \u001b[39m\u001b[32m1\u001b[39m \u001b[38;5;28mprint\u001b[39m(\u001b[33m\"\u001b[39m\u001b[33mShape:\u001b[39m\u001b[33m\"\u001b[39m, \u001b[43mdf\u001b[49m.shape)\n\u001b[32m      2\u001b[39m \u001b[38;5;28mprint\u001b[39m(\u001b[33m\"\u001b[39m\u001b[38;5;130;01m\\n\u001b[39;00m\u001b[33mColumns:\u001b[39m\u001b[33m\"\u001b[39m, df.columns.tolist())\n\u001b[32m      3\u001b[39m \u001b[38;5;28mprint\u001b[39m(\u001b[33m\"\u001b[39m\u001b[38;5;130;01m\\n\u001b[39;00m\u001b[33mDtypes:\u001b[39m\u001b[38;5;130;01m\\n\u001b[39;00m\u001b[33m\"\u001b[39m, df.dtypes.value_counts())\n",
      "\u001b[31mNameError\u001b[39m: name 'df' is not defined"
     ]
    }
   ],
   "source": [
    "print(\"Shape:\", df.shape)\n",
    "print(\"\\nColumns:\", df.columns.tolist())\n",
    "print(\"\\nDtypes:\\n\", df.dtypes.value_counts())\n",
    "print(\"\\nMissing values:\\n\", df.isnull().sum())"
   ]
  },
  {
   "cell_type": "markdown",
   "id": "f35d2e53",
   "metadata": {},
   "source": [
    "## 2. Fraud Distribution\n",
    "\n",
    "The target column is **Class**:  \n",
    "- `0` → Not Fraud  \n",
    "- `1` → Fraud  \n",
    "\n",
    "Let’s check how imbalanced the dataset is."
   ]
  },
  {
   "cell_type": "code",
   "execution_count": null,
   "id": "d876751d",
   "metadata": {},
   "outputs": [],
   "source": [
    "class_counts = df['Class'].value_counts()\n",
    "class_percent = df['Class'].value_counts(normalize=True) * 100\n",
    "\n",
    "print(\"Counts:\\n\", class_counts)\n",
    "print(\"\\nPercentages:\\n\", class_percent)\n",
    "\n",
    "# Bar plot\n",
    "sns.barplot(x=class_counts.index, y=class_counts.values, palette=\"pastel\")\n",
    "plt.xticks([0,1], ['Not Fraud (0)', 'Fraud (1)'])\n",
    "plt.ylabel(\"Count\")\n",
    "plt.title(\"Fraud Class Distribution\")\n",
    "plt.show()\n",
    "\n",
    "# Pie chart\n",
    "plt.pie(class_counts, labels=['Not Fraud', 'Fraud'], autopct='%1.3f%%', startangle=90, colors=[\"#66b3ff\",\"#ff9999\"])\n",
    "plt.title(\"Fraud vs Not Fraud\")\n",
    "plt.show()\n"
   ]
  },
  {
   "cell_type": "markdown",
   "id": "e66d4f65",
   "metadata": {},
   "source": [
    "## 3. Descriptive Statistics\n",
    "\n",
    "We’ll generate summary statistics to spot unusual ranges or outliers, especially in `Amount` and the PCA features (`V1`–`V28`).\n"
   ]
  },
  {
   "cell_type": "code",
   "execution_count": null,
   "id": "6f31629c",
   "metadata": {},
   "outputs": [],
   "source": [
    "df.describe().T\n"
   ]
  },
  {
   "cell_type": "markdown",
   "id": "ce6aba35",
   "metadata": {},
   "source": [
    "## 4. Correlation Heatmap\n",
    "\n",
    "Finally, let’s visualize correlations between features.  \n",
    "This can hint at which features may carry strong signals for fraud."
   ]
  },
  {
   "cell_type": "code",
   "execution_count": null,
   "id": "8bbee46a",
   "metadata": {},
   "outputs": [],
   "source": [
    "plt.figure(figsize=(12,8))\n",
    "sns.heatmap(df.corr(), cmap=\"coolwarm\", center=0, cbar=True)\n",
    "plt.title(\"Correlation Heatmap\", fontsize=14)\n",
    "plt.show()"
   ]
  },
  {
   "cell_type": "markdown",
   "id": "4a1a3c57",
   "metadata": {},
   "source": [
    "---\n",
    "# Findings (Day 1)\n",
    "\n",
    "- Dataset contains ~285k transactions, with 492 fraud cases (**0.17% fraud**).  \n",
    "- No missing values detected.  \n",
    "- Features are mostly PCA-transformed (`V1–V28`), plus `Time`, `Amount`, and target `Class`.  \n",
    "- Class imbalance is extreme → augmentation will be required before modeling.  \n",
    "- Some features (like `V14`, `V17`) show higher correlation with `Class`.  \n",
    "\n",
    "✅ Next Step (Day 2): Begin **data augmentation** with Faker and resampling strategies to balance fraud vs non-fraud."
   ]
  }
 ],
 "metadata": {
  "kernelspec": {
   "display_name": ".venv",
   "language": "python",
   "name": "python3"
  },
  "language_info": {
   "codemirror_mode": {
    "name": "ipython",
    "version": 3
   },
   "file_extension": ".py",
   "mimetype": "text/x-python",
   "name": "python",
   "nbconvert_exporter": "python",
   "pygments_lexer": "ipython3",
   "version": "3.13.7"
  }
 },
 "nbformat": 4,
 "nbformat_minor": 5
}
